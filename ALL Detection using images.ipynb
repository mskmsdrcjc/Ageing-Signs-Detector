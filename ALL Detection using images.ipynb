{
 "cells": [
  {
   "cell_type": "code",
   "execution_count": 1,
   "metadata": {},
   "outputs": [],
   "source": [
    "from tensorflow.keras.applications.efficientnet import preprocess_input\n",
    "from tensorflow.keras.preprocessing.image import img_to_array\n",
    "from tensorflow.keras.models import load_model\n",
    "import numpy as np\n",
    "import cv2\n",
    "import os"
   ]
  },
  {
   "cell_type": "code",
   "execution_count": 2,
   "metadata": {},
   "outputs": [],
   "source": [
    "faceCascade = cv2.CascadeClassifier(\"haarcascade_frontalface_default.xml\")"
   ]
  },
  {
   "cell_type": "code",
   "execution_count": 3,
   "metadata": {},
   "outputs": [],
   "source": [
    "model_1 = load_model(\"wrinkle_detector.model\")\n",
    "model_2 = load_model(\"puffyEye_detector.model\")\n",
    "model_3 = load_model(\"darkSpot_detector.model\")"
   ]
  },
  {
   "cell_type": "code",
   "execution_count": 4,
   "metadata": {},
   "outputs": [],
   "source": [
    "def detection(frame):\n",
    "    gray = cv2.cvtColor(frame, cv2.COLOR_BGR2GRAY)\n",
    "    faces = faceCascade.detectMultiScale(gray, scaleFactor = 1.05,minNeighbors=10, minSize=(60,60), flags=cv2.CASCADE_SCALE_IMAGE)\n",
    "    \n",
    "    faces_list = []\n",
    "    preds_1 = []\n",
    "    preds_2 = []\n",
    "    preds_3 = []\n",
    "    \n",
    "    for (x,y,w,h) in faces:\n",
    "        face_frame = frame[y:y+h, x:x+w]\n",
    "        face_frame = cv2.cvtColor(face_frame, cv2.COLOR_BGR2RGB)\n",
    "        face_frame = cv2.resize(face_frame, (120,120))\n",
    "        face_frame = img_to_array(face_frame)\n",
    "        face_frame = np.expand_dims(face_frame, axis=0)\n",
    "        face_frame = preprocess_input(face_frame)\n",
    "        \n",
    "        faces_list.append(face_frame)\n",
    "        \n",
    "        if len(faces_list) > 0:\n",
    "            preds_1 = model_1.predict(faces_list)\n",
    "            preds_2 = model_2.predict(faces_list)\n",
    "            preds_3 = model_3.predict(faces_list)\n",
    "        \n",
    "        for pred_1 in preds_1:\n",
    "            (NoWrinkles, Wrinkled) = pred_1\n",
    "            \n",
    "        for pred_2 in preds_2:\n",
    "            (Normal_Eyes, Puffy_Eyes) = pred_2\n",
    "            \n",
    "        for pred_3 in preds_3:\n",
    "            (Dark_Spots, No_Spots) = pred_3\n",
    "            \n",
    "        label_1 = \"NoWrinkles\" if NoWrinkles > Wrinkled else \"Wrinkled\"\n",
    "        color_1 = (0,255,0) if label_1 == \"NoWrinkles\" else (0,0,255)\n",
    "        \n",
    "        label_1 = \"{}:{:.2f}%\".format(label_1, max(NoWrinkles, Wrinkled) *100)\n",
    "        \n",
    "        cv2.putText(frame, label_1, (x-50, y-10), cv2.FONT_HERSHEY_SIMPLEX, 1, color_1, 2)\n",
    "        \n",
    "        \n",
    "        label_2 = \"NotPuffed\" if Normal_Eyes > Puffy_Eyes else \"PuffyEyes\"\n",
    "        color_2 = (0,255,0) if label_2 == \"NotPuffed\" else (0,0,255)\n",
    "        \n",
    "        label_2 = \"{}:{:.2f}%\".format(label_2, max(Normal_Eyes, Puffy_Eyes) *100)\n",
    "        \n",
    "        cv2.putText(frame, label_2, (x-50, y-40), cv2.FONT_HERSHEY_SIMPLEX, 1, color_2, 2)\n",
    "        \n",
    "        \n",
    "        label_3 = \"DarkSpots\" if Dark_Spots > No_Spots else \"NoSpots\"\n",
    "        color_3 = (0,255,0) if label_3 == \"NoSpots\" else (0,0,255)\n",
    "        \n",
    "        label_3 = \"{}:{:.2f}%\".format(label_3, max(Dark_Spots, No_Spots) *100)\n",
    "        \n",
    "        \n",
    "        \n",
    "        cv2.putText(frame, label_3, (x-50, y-70), cv2.FONT_HERSHEY_SIMPLEX, 1, color_3, 2)\n",
    "        cv2.rectangle(frame, (x,y), (x+w, y+h), (255,0,0), 3)\n",
    "        \n",
    "    return frame"
   ]
  },
  {
   "cell_type": "code",
   "execution_count": 6,
   "metadata": {},
   "outputs": [],
   "source": [
    "input_image = cv2.imread(\"C:/Users/Sai Krishna M/OneDrive/Desktop/face_PNG5645.png\")\n",
    "output = detection(input_image)\n",
    "cv2.imshow(\"IMAGE\",output)\n",
    "cv2.waitKey(0)\n",
    "cv2.destroyAllWindows()"
   ]
  },
  {
   "cell_type": "code",
   "execution_count": null,
   "metadata": {},
   "outputs": [],
   "source": []
  }
 ],
 "metadata": {
  "kernelspec": {
   "display_name": "Python 3",
   "language": "python",
   "name": "python3"
  },
  "language_info": {
   "codemirror_mode": {
    "name": "ipython",
    "version": 3
   },
   "file_extension": ".py",
   "mimetype": "text/x-python",
   "name": "python",
   "nbconvert_exporter": "python",
   "pygments_lexer": "ipython3",
   "version": "3.8.5"
  }
 },
 "nbformat": 4,
 "nbformat_minor": 5
}
